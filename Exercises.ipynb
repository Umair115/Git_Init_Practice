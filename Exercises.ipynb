{
 "cells": [
  {
   "cell_type": "markdown",
   "metadata": {},
   "source": [
    "# Ex : 1\n",
    "\n",
    "a) Write a Python program which accepts the radius of a circle from the user and compute the area\n",
    "\n",
    "b) Create a program that asks the user to enter their name and their age. Print out a message addressed to them that tells them the year that they will turn 100 years old. "
   ]
  },
  {
   "cell_type": "markdown",
   "metadata": {},
   "source": [
    "# Ex : 2\n",
    "\n",
    "Ask the user for a number. Depending on whether the number is even or odd, print out an appropriate message to the user."
   ]
  },
  {
   "cell_type": "markdown",
   "metadata": {},
   "source": [
    "# Ex : 3\n",
    "\n",
    "Imagine an alien was just shot down in a game. Create a variable called alien_color and assign it a value of 'green', 'yellow', or 'red'.\n",
    "-\t Write an if statement to test whether the alien’s color is green. If it is, print a message that the player just earned 5 points.\n",
    "\n",
    "-\t Write one version of this program that passes the if test and another that fails. (The version that fails will have no output.)\n"
   ]
  },
  {
   "cell_type": "markdown",
   "metadata": {},
   "source": [
    "# Ex : 4\n",
    "\n",
    "Choose a color for an alien as you did in Exercise 3, and write an if-else chain.\n",
    "\n",
    "-\t If the alien’s color is green, print a statement that the player just earned 5 points for shooting the alien.\n",
    "-\t If the alien’s color isn’t green, print a statement that the player just earned 10 points.\n",
    "-\t Write one version of this program that runs the if block and another that runs the else block."
   ]
  },
  {
   "cell_type": "markdown",
   "metadata": {},
   "source": [
    "# Ex : 5\n",
    "\n",
    "Write an if-elif-else chain that determines a person’s stage of life. Set a value for the variable age, and then:\n",
    "\n",
    "-\t If the person is less than 2 years old, print a message that the person is a baby.\n",
    "-\t If the person is at least 2 years old but less than 4, print a message that the person is a toddler.\n",
    "-\t If the person is at least 4 years old but less than 13, print a message that the person is a kid.\n",
    "-\t If the person is at least 13 years old but less than 20, print a message that the person is a teenager.\n",
    "-\t If the person is at least 20 years old but less than 65, print a message that the person is an adult.\n",
    "-\t If the person is age 65 or older, print a message that the person is an elder"
   ]
  },
  {
   "cell_type": "markdown",
   "metadata": {},
   "source": [
    "# Ex : 6\n",
    "\n",
    "Create a small ordering system :\n",
    "\n",
    "- Make a list of pizza toppings which includes Mushrooms , Chicken , Black Olives , Capsicum , Green Olives .\n",
    "- Ask user for the topping he wants to add .\n",
    "- Check whether the topping is in the list . If yes , Recall the order else ask for another one .\n",
    "\n",
    "##### OUTPUT :\n",
    "\n",
    "Which topping would you like to add ? ----\n",
    "<br> Sorry!place another order .\n",
    "<br> You have ordered ----- for your pizza "
   ]
  },
  {
   "cell_type": "markdown",
   "metadata": {},
   "source": [
    "# Ex : 7 \n",
    "Use dictionary to store antonyms of words. E.g.- 'Right':'Left', 'Up':'Down', etc. Display all words and then ask user to enter a word and display antonym of it."
   ]
  },
  {
   "cell_type": "markdown",
   "metadata": {},
   "source": [
    "# Ex : 7a\n",
    "\n",
    "Create a new dictionary called **prices**\n",
    "\n",
    "- Put these values in your prices dictionary:\n",
    "**\"banana\": 4,\n",
    "\"apple\": 2,\n",
    "\"orange\": 1.5,\n",
    "\"pear\": 3**\n",
    "- Loop through each key in prices. For each key, print out the key along with its price \n",
    "- Check whether the topping is in the list . If yes , Recall the order else ask for another one .\n",
    "\n",
    "##### OUTPUT :\n",
    "\n",
    "banana \n",
    "<br>price : 4\n",
    "<br> apple\n",
    "<br>price: 2\n",
    "<br>:\n",
    "<br>:"
   ]
  },
  {
   "cell_type": "markdown",
   "metadata": {},
   "source": [
    "# Ex : 7b\n",
    "\n",
    "Let's determine how much money you would make if you sold all of your food.\n",
    "\n",
    "- Create a variable called **total** and set it to zero.\n",
    "- Loop through the prices dictionaries.For each key in prices, multiply the number in prices by the number in stock. \n",
    "- Print that value into the console and then add it to total.\n",
    "- Finally, outside your loop, print total."
   ]
  },
  {
   "cell_type": "markdown",
   "metadata": {},
   "source": [
    "# Ex : 8\n",
    "Count the number of occurrence of each letter in word \"MISSISSIPPI\". Store count of every letter with the letter in a dictionary."
   ]
  },
  {
   "cell_type": "code",
   "execution_count": null,
   "metadata": {},
   "outputs": [],
   "source": []
  }
 ],
 "metadata": {
  "kernelspec": {
   "display_name": "Python 3",
   "language": "python",
   "name": "python3"
  },
  "language_info": {
   "codemirror_mode": {
    "name": "ipython",
    "version": 3
   },
   "file_extension": ".py",
   "mimetype": "text/x-python",
   "name": "python",
   "nbconvert_exporter": "python",
   "pygments_lexer": "ipython3",
   "version": "3.7.3"
  }
 },
 "nbformat": 4,
 "nbformat_minor": 2
}
