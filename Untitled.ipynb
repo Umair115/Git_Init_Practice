{
 "cells": [
  {
   "cell_type": "code",
   "execution_count": 41,
   "metadata": {},
   "outputs": [
    {
     "data": {
      "text/plain": [
       "'abc'"
      ]
     },
     "execution_count": 41,
     "metadata": {},
     "output_type": "execute_result"
    }
   ],
   "source": [
    "dic = [\n",
    "    {'id': 0, 'name':'abc' , 'contact' : '1234345'} , \n",
    "    {'id': 1, 'name':'def' , 'contact' : '456567'} ,\n",
    "    {'id': 2, 'name':'ghi' , 'contact' : '8768768'} ,\n",
    "    {'id': 3, 'name':'jkl' , 'contact' : '8768768'},\n",
    "    {'id': 4, 'name':'mno' , 'contact' : '8768768'},\n",
    "    {'id': 5, 'name':'pqr' , 'contact' : '8768768'}\n",
    "    ]\n",
    "dic[0]['name'] "
   ]
  },
  {
   "cell_type": "code",
   "execution_count": 106,
   "metadata": {},
   "outputs": [
    {
     "data": {
      "text/plain": [
       "'ghi'"
      ]
     },
     "execution_count": 106,
     "metadata": {},
     "output_type": "execute_result"
    }
   ],
   "source": [
    "dic2 = {\n",
    "    1 : {'name':'abc' , 'contact' : '1234345'} , \n",
    "    2 : {'name':'def' , 'contact' : '456567'} ,\n",
    "    3 : {'name':'ghi' , 'contact' : '8768768'} ,\n",
    "    4 : {'name':'mno' , 'contact' : '8768768'},\n",
    "    5 : {'name':'pqr' , 'contact' : '8768768'},\n",
    "}\n",
    "\n",
    "dic2[3]['name']"
   ]
  },
  {
   "cell_type": "code",
   "execution_count": 29,
   "metadata": {},
   "outputs": [
    {
     "data": {
      "text/plain": [
       "'456567'"
      ]
     },
     "execution_count": 29,
     "metadata": {},
     "output_type": "execute_result"
    }
   ],
   "source": [
    "dic3 = {\n",
    "    1 : ['abc' , '1234345'] , \n",
    "    2 : ('def' , '456567') ,\n",
    "    3 : {'name':'ghi' , 'contact' : '8768768'} ,\n",
    "    }\n",
    "dic3[1][1]\n",
    "dic3[2][1]"
   ]
  },
  {
   "cell_type": "code",
   "execution_count": 49,
   "metadata": {},
   "outputs": [
    {
     "data": {
      "text/plain": [
       "{1: {'name': 'abc', 'contact': '1234345'},\n",
       " 2: {'name': 'def', 'contact': '456567'},\n",
       " 3: {'name': 'ghi', 'contact': '8768768'},\n",
       " 4: {'name': 'mno', 'contact': '8768768'},\n",
       " 5: {'name': 'pqr', 'contact': '8768768'}}"
      ]
     },
     "execution_count": 49,
     "metadata": {},
     "output_type": "execute_result"
    }
   ],
   "source": [
    "dic2"
   ]
  },
  {
   "cell_type": "code",
   "execution_count": 51,
   "metadata": {},
   "outputs": [],
   "source": [
    "del dic2[2]['contact']"
   ]
  },
  {
   "cell_type": "code",
   "execution_count": 52,
   "metadata": {},
   "outputs": [
    {
     "data": {
      "text/plain": [
       "{1: {'name': 'abc', 'contact': '1234345'},\n",
       " 2: {'name': 'def'},\n",
       " 3: {'name': 'ghi', 'contact': '8768768'},\n",
       " 4: {'name': 'mno', 'contact': '8768768'},\n",
       " 5: {'name': 'pqr', 'contact': '8768768'}}"
      ]
     },
     "execution_count": 52,
     "metadata": {},
     "output_type": "execute_result"
    }
   ],
   "source": [
    "dic2"
   ]
  },
  {
   "cell_type": "code",
   "execution_count": 53,
   "metadata": {},
   "outputs": [
    {
     "data": {
      "text/plain": [
       "{'name': 'abc', 'contact': '1234345'}"
      ]
     },
     "execution_count": 53,
     "metadata": {},
     "output_type": "execute_result"
    }
   ],
   "source": [
    "element = dic2.pop(1)\n",
    "element"
   ]
  },
  {
   "cell_type": "code",
   "execution_count": 54,
   "metadata": {},
   "outputs": [
    {
     "data": {
      "text/plain": [
       "{2: {'name': 'def'},\n",
       " 3: {'name': 'ghi', 'contact': '8768768'},\n",
       " 4: {'name': 'mno', 'contact': '8768768'},\n",
       " 5: {'name': 'pqr', 'contact': '8768768'}}"
      ]
     },
     "execution_count": 54,
     "metadata": {},
     "output_type": "execute_result"
    }
   ],
   "source": [
    "dic2"
   ]
  },
  {
   "cell_type": "code",
   "execution_count": 62,
   "metadata": {},
   "outputs": [
    {
     "data": {
      "text/plain": [
       "'ghi'"
      ]
     },
     "execution_count": 62,
     "metadata": {},
     "output_type": "execute_result"
    }
   ],
   "source": [
    "element = dic2.pop(3)  # key pass krden to value return krdega\n",
    "element = element.pop('name')\n",
    "element"
   ]
  },
  {
   "cell_type": "code",
   "execution_count": 63,
   "metadata": {},
   "outputs": [
    {
     "data": {
      "text/plain": [
       "{1: {'name': 'abc', 'contact': '1234345'},\n",
       " 2: {'name': 'def', 'contact': '456567'},\n",
       " 4: {'name': 'mno', 'contact': '8768768'},\n",
       " 5: {'name': 'pqr', 'contact': '8768768'}}"
      ]
     },
     "execution_count": 63,
     "metadata": {},
     "output_type": "execute_result"
    }
   ],
   "source": [
    "dic2"
   ]
  },
  {
   "cell_type": "code",
   "execution_count": 64,
   "metadata": {},
   "outputs": [
    {
     "data": {
      "text/plain": [
       "'no key'"
      ]
     },
     "execution_count": 64,
     "metadata": {},
     "output_type": "execute_result"
    }
   ],
   "source": [
    "dic2.pop(3,'no key') # agar ki na mili to default value dedega"
   ]
  },
  {
   "cell_type": "code",
   "execution_count": 79,
   "metadata": {},
   "outputs": [
    {
     "name": "stdout",
     "output_type": "stream",
     "text": [
      "default\n"
     ]
    }
   ],
   "source": [
    "#dic2[3]   # will raise a key error\n",
    "dic2.get(3) # will return 'none'\n",
    "print(dic2.get(3 , \"default\"))    "
   ]
  },
  {
   "cell_type": "code",
   "execution_count": 100,
   "metadata": {},
   "outputs": [
    {
     "data": {
      "text/plain": [
       "(5, {'name': 'pqr', 'contact': '8768768'})"
      ]
     },
     "execution_count": 100,
     "metadata": {},
     "output_type": "execute_result"
    }
   ],
   "source": [
    "dic2.popitem()   # it will return key and value"
   ]
  },
  {
   "cell_type": "code",
   "execution_count": 101,
   "metadata": {},
   "outputs": [
    {
     "data": {
      "text/plain": [
       "{1: {'name': 'abc', 'contact': '1234345'},\n",
       " 2: {'name': 'def', 'contact': '456567'},\n",
       " 3: {'name': 'ghi', 'contact': '8768768'},\n",
       " 4: {'name': 'mno', 'contact': '8768768'}}"
      ]
     },
     "execution_count": 101,
     "metadata": {},
     "output_type": "execute_result"
    }
   ],
   "source": [
    "dic2"
   ]
  },
  {
   "cell_type": "code",
   "execution_count": 102,
   "metadata": {},
   "outputs": [
    {
     "data": {
      "text/plain": [
       "{1: {'name': 'abc', 'contact': '1234345'},\n",
       " 2: {'name': 'def', 'contact': '456567'},\n",
       " 3: {'name': 'ghi', 'contact': '8768768'},\n",
       " 4: {'name': 'mno', 'contact': '8768768'},\n",
       " 5: {'name': 'pqr', 'contact': '8768768'}}"
      ]
     },
     "execution_count": 102,
     "metadata": {},
     "output_type": "execute_result"
    }
   ],
   "source": [
    "dic2[5] = {'name': 'pqr', 'contact': '8768768'}\n",
    "dic2"
   ]
  },
  {
   "cell_type": "code",
   "execution_count": 103,
   "metadata": {},
   "outputs": [],
   "source": [
    "dic2.clear()   # will make he dic empty \n",
    "del dic2"
   ]
  },
  {
   "cell_type": "code",
   "execution_count": 104,
   "metadata": {},
   "outputs": [
    {
     "ename": "NameError",
     "evalue": "name 'dic2' is not defined",
     "output_type": "error",
     "traceback": [
      "\u001b[1;31m---------------------------------------------------------------------------\u001b[0m",
      "\u001b[1;31mNameError\u001b[0m                                 Traceback (most recent call last)",
      "\u001b[1;32m<ipython-input-104-1a5cd8a3ece3>\u001b[0m in \u001b[0;36m<module>\u001b[1;34m\u001b[0m\n\u001b[1;32m----> 1\u001b[1;33m \u001b[0mdic2\u001b[0m\u001b[1;33m\u001b[0m\u001b[1;33m\u001b[0m\u001b[0m\n\u001b[0m",
      "\u001b[1;31mNameError\u001b[0m: name 'dic2' is not defined"
     ]
    }
   ],
   "source": [
    "dic2"
   ]
  },
  {
   "cell_type": "code",
   "execution_count": 107,
   "metadata": {},
   "outputs": [],
   "source": [
    "dic2.update(dic3) # It will merge 2 dics"
   ]
  },
  {
   "cell_type": "code",
   "execution_count": 108,
   "metadata": {},
   "outputs": [
    {
     "data": {
      "text/plain": [
       "{1: ['abc', '1234345'],\n",
       " 2: ('def', '456567'),\n",
       " 3: {'name': 'ghi', 'contact': '8768768'},\n",
       " 4: {'name': 'mno', 'contact': '8768768'},\n",
       " 5: {'name': 'pqr', 'contact': '8768768'}}"
      ]
     },
     "execution_count": 108,
     "metadata": {},
     "output_type": "execute_result"
    }
   ],
   "source": [
    "dic2"
   ]
  },
  {
   "cell_type": "code",
   "execution_count": 119,
   "metadata": {},
   "outputs": [
    {
     "data": {
      "text/plain": [
       "['M', 'I', 'S', 'P']"
      ]
     },
     "execution_count": 119,
     "metadata": {},
     "output_type": "execute_result"
    }
   ],
   "source": [
    "word = \"MISSISSIPPI\"\n",
    "l = []\n",
    "dic = {}\n",
    "count = 0\n",
    "for i in word:\n",
    "    if i not in l:\n",
    "        l.append(i)\n",
    "l\n",
    "    "
   ]
  },
  {
   "cell_type": "code",
   "execution_count": 121,
   "metadata": {},
   "outputs": [
    {
     "data": {
      "text/plain": [
       "{'M': 1, 'I': 4, 'S': 4, 'P': 2}"
      ]
     },
     "execution_count": 121,
     "metadata": {},
     "output_type": "execute_result"
    }
   ],
   "source": [
    "for i in l:\n",
    "    count = 0\n",
    "    for letter in word:\n",
    "        if i == letter:\n",
    "            count += 1\n",
    "            dic[letter] = count \n",
    "dic"
   ]
  },
  {
   "cell_type": "code",
   "execution_count": null,
   "metadata": {},
   "outputs": [],
   "source": []
  }
 ],
 "metadata": {
  "kernelspec": {
   "display_name": "Python 3",
   "language": "python",
   "name": "python3"
  },
  "language_info": {
   "codemirror_mode": {
    "name": "ipython",
    "version": 3
   },
   "file_extension": ".py",
   "mimetype": "text/x-python",
   "name": "python",
   "nbconvert_exporter": "python",
   "pygments_lexer": "ipython3",
   "version": "3.7.3"
  }
 },
 "nbformat": 4,
 "nbformat_minor": 2
}
